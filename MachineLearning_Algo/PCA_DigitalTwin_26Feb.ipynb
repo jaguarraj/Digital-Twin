{
 "cells": [
  {
   "cell_type": "code",
   "execution_count": 1,
   "metadata": {},
   "outputs": [],
   "source": [
    "import numpy as np\n",
    "import pandas as pd\n",
    "import matplotlib.pyplot as plt\n",
    "%matplotlib inline\n",
    "import seaborn as sns\n",
    "import time"
   ]
  },
  {
   "cell_type": "code",
   "execution_count": 2,
   "metadata": {},
   "outputs": [],
   "source": [
    "# Calling the .csv file with stastical features"
   ]
  },
  {
   "cell_type": "code",
   "execution_count": 3,
   "metadata": {},
   "outputs": [],
   "source": [
    "features_data = pd.read_csv('C:/Users/intel/Desktop/Mtech_Proj/Digital twin_29 Jan 2021/Low_features_digitalTwin_fault.csv',\n",
    "                            index_col=0)"
   ]
  },
  {
   "cell_type": "code",
   "execution_count": 4,
   "metadata": {},
   "outputs": [],
   "source": [
    "# Test Train split 30%"
   ]
  },
  {
   "cell_type": "code",
   "execution_count": 5,
   "metadata": {},
   "outputs": [],
   "source": [
    "from sklearn.model_selection import train_test_split"
   ]
  },
  {
   "cell_type": "code",
   "execution_count": 6,
   "metadata": {},
   "outputs": [],
   "source": [
    "X = features_data.drop('fault_Class',axis=1)\n",
    "y = features_data['fault_Class']\n",
    "X_train, X_test, y_train, y_test = train_test_split(X, y, test_size=0.30)"
   ]
  },
  {
   "cell_type": "code",
   "execution_count": 7,
   "metadata": {},
   "outputs": [
    {
     "data": {
      "text/html": [
       "<div>\n",
       "<style scoped>\n",
       "    .dataframe tbody tr th:only-of-type {\n",
       "        vertical-align: middle;\n",
       "    }\n",
       "\n",
       "    .dataframe tbody tr th {\n",
       "        vertical-align: top;\n",
       "    }\n",
       "\n",
       "    .dataframe thead th {\n",
       "        text-align: right;\n",
       "    }\n",
       "</style>\n",
       "<table border=\"1\" class=\"dataframe\">\n",
       "  <thead>\n",
       "    <tr style=\"text-align: right;\">\n",
       "      <th></th>\n",
       "      <th>x_Mean</th>\n",
       "      <th>x_Min</th>\n",
       "      <th>x_Kurtosis</th>\n",
       "      <th>x_Crest_Factor</th>\n",
       "      <th>x_Skewness</th>\n",
       "      <th>x_Form_Factor</th>\n",
       "    </tr>\n",
       "  </thead>\n",
       "  <tbody>\n",
       "    <tr>\n",
       "      <th>1055</th>\n",
       "      <td>-0.020383</td>\n",
       "      <td>-0.586491</td>\n",
       "      <td>1.677786</td>\n",
       "      <td>4.523080</td>\n",
       "      <td>-0.298658</td>\n",
       "      <td>-6.143098</td>\n",
       "    </tr>\n",
       "    <tr>\n",
       "      <th>569</th>\n",
       "      <td>-0.013089</td>\n",
       "      <td>-0.580244</td>\n",
       "      <td>1.680595</td>\n",
       "      <td>4.400976</td>\n",
       "      <td>-0.138859</td>\n",
       "      <td>-9.494941</td>\n",
       "    </tr>\n",
       "    <tr>\n",
       "      <th>4847</th>\n",
       "      <td>-0.015911</td>\n",
       "      <td>-0.580244</td>\n",
       "      <td>1.790892</td>\n",
       "      <td>4.321216</td>\n",
       "      <td>-0.131466</td>\n",
       "      <td>-7.974150</td>\n",
       "    </tr>\n",
       "    <tr>\n",
       "      <th>8007</th>\n",
       "      <td>0.581752</td>\n",
       "      <td>-0.727554</td>\n",
       "      <td>-0.445078</td>\n",
       "      <td>3.268655</td>\n",
       "      <td>0.902331</td>\n",
       "      <td>1.459694</td>\n",
       "    </tr>\n",
       "    <tr>\n",
       "      <th>4792</th>\n",
       "      <td>-0.017505</td>\n",
       "      <td>-0.629895</td>\n",
       "      <td>2.198723</td>\n",
       "      <td>3.929555</td>\n",
       "      <td>-0.146240</td>\n",
       "      <td>-7.530504</td>\n",
       "    </tr>\n",
       "    <tr>\n",
       "      <th>...</th>\n",
       "      <td>...</td>\n",
       "      <td>...</td>\n",
       "      <td>...</td>\n",
       "      <td>...</td>\n",
       "      <td>...</td>\n",
       "      <td>...</td>\n",
       "    </tr>\n",
       "    <tr>\n",
       "      <th>8584</th>\n",
       "      <td>0.592858</td>\n",
       "      <td>-0.601288</td>\n",
       "      <td>0.362306</td>\n",
       "      <td>3.582259</td>\n",
       "      <td>1.058302</td>\n",
       "      <td>1.480517</td>\n",
       "    </tr>\n",
       "    <tr>\n",
       "      <th>1575</th>\n",
       "      <td>-0.019218</td>\n",
       "      <td>-0.593397</td>\n",
       "      <td>1.056789</td>\n",
       "      <td>4.190649</td>\n",
       "      <td>-0.222756</td>\n",
       "      <td>-6.215754</td>\n",
       "    </tr>\n",
       "    <tr>\n",
       "      <th>560</th>\n",
       "      <td>-0.019059</td>\n",
       "      <td>-0.579257</td>\n",
       "      <td>1.697746</td>\n",
       "      <td>4.074303</td>\n",
       "      <td>-0.142184</td>\n",
       "      <td>-6.797819</td>\n",
       "    </tr>\n",
       "    <tr>\n",
       "      <th>4170</th>\n",
       "      <td>-0.017922</td>\n",
       "      <td>-0.672971</td>\n",
       "      <td>2.081132</td>\n",
       "      <td>3.687837</td>\n",
       "      <td>-0.149609</td>\n",
       "      <td>-7.379848</td>\n",
       "    </tr>\n",
       "    <tr>\n",
       "      <th>277</th>\n",
       "      <td>-0.014288</td>\n",
       "      <td>-0.686123</td>\n",
       "      <td>1.792196</td>\n",
       "      <td>3.930484</td>\n",
       "      <td>-0.127895</td>\n",
       "      <td>-9.054073</td>\n",
       "    </tr>\n",
       "  </tbody>\n",
       "</table>\n",
       "<p>6160 rows × 6 columns</p>\n",
       "</div>"
      ],
      "text/plain": [
       "        x_Mean     x_Min  x_Kurtosis  x_Crest_Factor  x_Skewness  \\\n",
       "1055 -0.020383 -0.586491    1.677786        4.523080   -0.298658   \n",
       "569  -0.013089 -0.580244    1.680595        4.400976   -0.138859   \n",
       "4847 -0.015911 -0.580244    1.790892        4.321216   -0.131466   \n",
       "8007  0.581752 -0.727554   -0.445078        3.268655    0.902331   \n",
       "4792 -0.017505 -0.629895    2.198723        3.929555   -0.146240   \n",
       "...        ...       ...         ...             ...         ...   \n",
       "8584  0.592858 -0.601288    0.362306        3.582259    1.058302   \n",
       "1575 -0.019218 -0.593397    1.056789        4.190649   -0.222756   \n",
       "560  -0.019059 -0.579257    1.697746        4.074303   -0.142184   \n",
       "4170 -0.017922 -0.672971    2.081132        3.687837   -0.149609   \n",
       "277  -0.014288 -0.686123    1.792196        3.930484   -0.127895   \n",
       "\n",
       "      x_Form_Factor  \n",
       "1055      -6.143098  \n",
       "569       -9.494941  \n",
       "4847      -7.974150  \n",
       "8007       1.459694  \n",
       "4792      -7.530504  \n",
       "...             ...  \n",
       "8584       1.480517  \n",
       "1575      -6.215754  \n",
       "560       -6.797819  \n",
       "4170      -7.379848  \n",
       "277       -9.054073  \n",
       "\n",
       "[6160 rows x 6 columns]"
      ]
     },
     "execution_count": 7,
     "metadata": {},
     "output_type": "execute_result"
    }
   ],
   "source": [
    "X_train"
   ]
  },
  {
   "cell_type": "code",
   "execution_count": 8,
   "metadata": {},
   "outputs": [],
   "source": [
    "# perform standard scalar normalization to normalize our feature set"
   ]
  },
  {
   "cell_type": "code",
   "execution_count": 9,
   "metadata": {},
   "outputs": [],
   "source": [
    "from sklearn.preprocessing import StandardScaler\n",
    "\n",
    "sc = StandardScaler()\n",
    "X_train = sc.fit_transform(X_train)\n",
    "X_test = sc.transform(X_test)"
   ]
  },
  {
   "cell_type": "code",
   "execution_count": 10,
   "metadata": {},
   "outputs": [],
   "source": [
    "# Applying PCA"
   ]
  },
  {
   "cell_type": "code",
   "execution_count": 11,
   "metadata": {},
   "outputs": [],
   "source": [
    "from sklearn.decomposition import PCA\n",
    "\n",
    "pca = PCA()\n",
    "X_train = pca.fit_transform(X_train)\n",
    "X_test = pca.transform(X_test)"
   ]
  },
  {
   "cell_type": "code",
   "execution_count": 12,
   "metadata": {},
   "outputs": [],
   "source": [
    "from sklearn.ensemble import RandomForestClassifier\n",
    "\n",
    "classifier = RandomForestClassifier(max_depth=2, random_state=0)\n",
    "classifier.fit(X_train, y_train)\n",
    "\n",
    "# Predicting the Test set results\n",
    "y_pred = classifier.predict(X_test)"
   ]
  },
  {
   "cell_type": "code",
   "execution_count": 13,
   "metadata": {},
   "outputs": [],
   "source": [
    "# Performance Evaluation"
   ]
  },
  {
   "cell_type": "code",
   "execution_count": 14,
   "metadata": {},
   "outputs": [
    {
     "name": "stdout",
     "output_type": "stream",
     "text": [
      "[[353   3 153   1   0]\n",
      " [  0 541   0   0   0]\n",
      " [125   0 404   0   0]\n",
      " [  0   0   0 521   0]\n",
      " [  0   0   0   0 539]]\n",
      "              precision    recall  f1-score   support\n",
      "\n",
      "          C1       0.74      0.69      0.71       510\n",
      "          C2       0.99      1.00      1.00       541\n",
      "          C3       0.73      0.76      0.74       529\n",
      "          C4       1.00      1.00      1.00       521\n",
      "          C5       1.00      1.00      1.00       539\n",
      "\n",
      "    accuracy                           0.89      2640\n",
      "   macro avg       0.89      0.89      0.89      2640\n",
      "weighted avg       0.89      0.89      0.89      2640\n",
      "\n"
     ]
    }
   ],
   "source": [
    "from sklearn.metrics import classification_report,confusion_matrix\n",
    "print(confusion_matrix(y_test,y_pred))\n",
    "print(classification_report(y_test,y_pred))"
   ]
  },
  {
   "cell_type": "code",
   "execution_count": 15,
   "metadata": {},
   "outputs": [],
   "source": [
    "# Results with 2 or 3 Principal Components"
   ]
  },
  {
   "cell_type": "code",
   "execution_count": 16,
   "metadata": {},
   "outputs": [],
   "source": [
    "pca = PCA(n_components=3)\n",
    "X_train = pca.fit_transform(X_train)\n",
    "X_test = pca.transform(X_test)"
   ]
  },
  {
   "cell_type": "code",
   "execution_count": 17,
   "metadata": {},
   "outputs": [
    {
     "name": "stdout",
     "output_type": "stream",
     "text": [
      "[[312   3 194   1   0]\n",
      " [  0 541   0   0   0]\n",
      " [121   0 408   0   0]\n",
      " [  0   0   0 521   0]\n",
      " [  0   0   0   0 539]]\n",
      "              precision    recall  f1-score   support\n",
      "\n",
      "          C1       0.72      0.61      0.66       510\n",
      "          C2       0.99      1.00      1.00       541\n",
      "          C3       0.68      0.77      0.72       529\n",
      "          C4       1.00      1.00      1.00       521\n",
      "          C5       1.00      1.00      1.00       539\n",
      "\n",
      "    accuracy                           0.88      2640\n",
      "   macro avg       0.88      0.88      0.88      2640\n",
      "weighted avg       0.88      0.88      0.88      2640\n",
      "\n"
     ]
    }
   ],
   "source": [
    "from sklearn.ensemble import RandomForestClassifier\n",
    "\n",
    "classifier = RandomForestClassifier(max_depth=2, random_state=0)\n",
    "classifier.fit(X_train, y_train)\n",
    "\n",
    "# Predicting the Test set results\n",
    "y_pred = classifier.predict(X_test)\n",
    "from sklearn.metrics import classification_report,confusion_matrix\n",
    "print(confusion_matrix(y_test,y_pred))\n",
    "print(classification_report(y_test,y_pred))"
   ]
  },
  {
   "cell_type": "code",
   "execution_count": null,
   "metadata": {},
   "outputs": [],
   "source": []
  }
 ],
 "metadata": {
  "kernelspec": {
   "display_name": "Python 3",
   "language": "python",
   "name": "python3"
  },
  "language_info": {
   "codemirror_mode": {
    "name": "ipython",
    "version": 3
   },
   "file_extension": ".py",
   "mimetype": "text/x-python",
   "name": "python",
   "nbconvert_exporter": "python",
   "pygments_lexer": "ipython3",
   "version": "3.7.7"
  }
 },
 "nbformat": 4,
 "nbformat_minor": 4
}
