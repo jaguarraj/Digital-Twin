{
 "cells": [
  {
   "cell_type": "code",
   "execution_count": 2,
   "metadata": {},
   "outputs": [],
   "source": [
    "import tensorflow as tf\n",
    "import numpy as np\n",
    "import pandas as pd\n",
    "from tensorflow.keras.models import Sequential\n",
    "from tensorflow.keras import layers\n",
    "from tensorflow.keras.utils import to_categorical\n",
    "import matplotlib.pyplot as plt\n",
    "import pandas as pd\n",
    "import sklearn\n",
    "from sklearn.model_selection import train_test_split\n",
    "import glob\n",
    "import time"
   ]
  },
  {
   "cell_type": "code",
   "execution_count": 3,
   "metadata": {},
   "outputs": [],
   "source": [
    "\n",
    "features_data = pd.read_csv('C:/Users/intel/Desktop/Mtech_Proj/Digital twin_29 Jan 2021/extractedData_Vib_Pow.csv',index_col=0)"
   ]
  },
  {
   "cell_type": "code",
   "execution_count": 14,
   "metadata": {},
   "outputs": [],
   "source": [
    "##Prepare dataset\n",
    "train_data, test_data, train_labels, test_labels = train_test_split(data, labels, test_size=0.25)\n",
    "train_data, val_data, train_labels, val_labels = train_test_split(train_data, train_labels, test_size=0.2)"
   ]
  },
  {
   "cell_type": "code",
   "execution_count": 15,
   "metadata": {},
   "outputs": [
    {
     "name": "stdout",
     "output_type": "stream",
     "text": [
      "(2832, 32, 32) (2832,) (1180, 32, 32) (1180,)\n"
     ]
    }
   ],
   "source": [
    "# Shuffle data\n",
    "index = np.random.permutation(len(train_labels))\n",
    "train_data, train_labels = train_data[index], train_labels[index]\n",
    "\n",
    "print(train_data.shape, train_labels.shape, test_data.shape, test_labels.shape )"
   ]
  },
  {
   "cell_type": "code",
   "execution_count": 16,
   "metadata": {},
   "outputs": [],
   "source": [
    "def build_model(input_shape):\n",
    "#     Generates RNN-LSTM model\n",
    "#     return model: RNN-LSTM model\n",
    "\n",
    "    # build network topology\n",
    "    model = Sequential()\n",
    "\n",
    "    # 2 LSTM layers\n",
    "    model.add(layers.LSTM(64, input_shape=input_shape, return_sequences=True))\n",
    "    model.add(layers.LSTM(64))\n",
    "\n",
    "    # dense layer\n",
    "    model.add(layers.Dense(64, activation='relu'))\n",
    "    model.add(layers.Dense(96, activation = 'relu')),\n",
    "    \n",
    "#     model.add(layers.Dropout(0.3))\n",
    "\n",
    "    # output layer\n",
    "    model.add(layers.Dense(10, activation='softmax'))\n",
    "\n",
    "    return model"
   ]
  },
  {
   "cell_type": "code",
   "execution_count": 17,
   "metadata": {},
   "outputs": [
    {
     "data": {
      "text/plain": [
       "((2832, 32, 32), (1180, 32, 32), (708, 32, 32))"
      ]
     },
     "execution_count": 17,
     "metadata": {},
     "output_type": "execute_result"
    }
   ],
   "source": [
    "train_data.shape,test_data.shape,val_data.shape"
   ]
  },
  {
   "cell_type": "code",
   "execution_count": 18,
   "metadata": {},
   "outputs": [
    {
     "data": {
      "text/plain": [
       "array([0, 1, 2, 3, 4, 5, 6, 7, 8, 9], dtype=int8)"
      ]
     },
     "execution_count": 18,
     "metadata": {},
     "output_type": "execute_result"
    }
   ],
   "source": [
    "np.unique(test_labels)"
   ]
  },
  {
   "cell_type": "code",
   "execution_count": 19,
   "metadata": {},
   "outputs": [],
   "source": [
    "# create network\n",
    "input_shape = (train_data.shape[1], train_data.shape[2])\n",
    "model = build_model(input_shape)"
   ]
  },
  {
   "cell_type": "code",
   "execution_count": 20,
   "metadata": {},
   "outputs": [
    {
     "name": "stdout",
     "output_type": "stream",
     "text": [
      "Model: \"sequential\"\n",
      "_________________________________________________________________\n",
      "Layer (type)                 Output Shape              Param #   \n",
      "=================================================================\n",
      "lstm (LSTM)                  (None, 32, 64)            24832     \n",
      "_________________________________________________________________\n",
      "lstm_1 (LSTM)                (None, 64)                33024     \n",
      "_________________________________________________________________\n",
      "dense (Dense)                (None, 64)                4160      \n",
      "_________________________________________________________________\n",
      "dense_1 (Dense)              (None, 96)                6240      \n",
      "_________________________________________________________________\n",
      "dense_2 (Dense)              (None, 10)                970       \n",
      "=================================================================\n",
      "Total params: 69,226\n",
      "Trainable params: 69,226\n",
      "Non-trainable params: 0\n",
      "_________________________________________________________________\n"
     ]
    }
   ],
   "source": [
    "# compile model\n",
    "optimiser = tf.keras.optimizers.Adam(learning_rate=0.0001)\n",
    "model.compile(optimizer=optimiser, loss='sparse_categorical_crossentropy', metrics=['accuracy'])\n",
    "\n",
    "model.summary()"
   ]
  },
  {
   "cell_type": "code",
   "execution_count": 21,
   "metadata": {},
   "outputs": [
    {
     "data": {
      "text/plain": [
       "<tensorflow.python.keras.callbacks.EarlyStopping at 0xa5fb0a7448>"
      ]
     },
     "execution_count": 21,
     "metadata": {},
     "output_type": "execute_result"
    }
   ],
   "source": [
    "from tensorflow.keras.callbacks import EarlyStopping\n",
    "early_stop = EarlyStopping(monitor='val_loss',mode='min',verbose=1,patience=25)\n",
    "# we are trying to min the thing that we are monitoring\n",
    "early_stop"
   ]
  },
  {
   "cell_type": "code",
   "execution_count": 23,
   "metadata": {},
   "outputs": [
    {
     "name": "stdout",
     "output_type": "stream",
     "text": [
      "Train on 2832 samples, validate on 708 samples\n",
      "Epoch 1/45\n",
      "2832/2832 [==============================] - 3s 1ms/sample - loss: 0.3585 - accuracy: 0.8672 - val_loss: 0.3587 - val_accuracy: 0.8729\n",
      "Epoch 2/45\n",
      "2832/2832 [==============================] - 3s 1ms/sample - loss: 0.3473 - accuracy: 0.8722 - val_loss: 0.3830 - val_accuracy: 0.8658\n",
      "Epoch 3/45\n",
      "2832/2832 [==============================] - 3s 1ms/sample - loss: 0.3370 - accuracy: 0.8782 - val_loss: 0.3632 - val_accuracy: 0.8743\n",
      "Epoch 4/45\n",
      "2832/2832 [==============================] - 3s 977us/sample - loss: 0.3431 - accuracy: 0.8739 - val_loss: 0.3600 - val_accuracy: 0.8686\n",
      "Epoch 5/45\n",
      "2832/2832 [==============================] - 3s 954us/sample - loss: 0.3295 - accuracy: 0.8835 - val_loss: 0.3809 - val_accuracy: 0.8517\n",
      "Epoch 6/45\n",
      "2832/2832 [==============================] - 3s 1ms/sample - loss: 0.3246 - accuracy: 0.8838 - val_loss: 0.3496 - val_accuracy: 0.8644\n",
      "Epoch 7/45\n",
      "2832/2832 [==============================] - 3s 1ms/sample - loss: 0.3132 - accuracy: 0.8863 - val_loss: 0.3465 - val_accuracy: 0.8686\n",
      "Epoch 8/45\n",
      "2832/2832 [==============================] - 3s 1ms/sample - loss: 0.3116 - accuracy: 0.8859 - val_loss: 0.3386 - val_accuracy: 0.8686\n",
      "Epoch 9/45\n",
      "2832/2832 [==============================] - 3s 933us/sample - loss: 0.3120 - accuracy: 0.8874 - val_loss: 0.3360 - val_accuracy: 0.8729\n",
      "Epoch 10/45\n",
      "2832/2832 [==============================] - 3s 1ms/sample - loss: 0.3142 - accuracy: 0.8877 - val_loss: 0.3473 - val_accuracy: 0.8701\n",
      "Epoch 11/45\n",
      "2832/2832 [==============================] - 3s 1ms/sample - loss: 0.3030 - accuracy: 0.8895 - val_loss: 0.3297 - val_accuracy: 0.8828\n",
      "Epoch 12/45\n",
      "2832/2832 [==============================] - 3s 1ms/sample - loss: 0.2976 - accuracy: 0.8919 - val_loss: 0.3304 - val_accuracy: 0.8785\n",
      "Epoch 13/45\n",
      "2832/2832 [==============================] - 3s 1ms/sample - loss: 0.2964 - accuracy: 0.8905 - val_loss: 0.3316 - val_accuracy: 0.8729\n",
      "Epoch 14/45\n",
      "2832/2832 [==============================] - 3s 1ms/sample - loss: 0.2898 - accuracy: 0.8969 - val_loss: 0.3253 - val_accuracy: 0.8842\n",
      "Epoch 15/45\n",
      "2832/2832 [==============================] - 3s 1ms/sample - loss: 0.3005 - accuracy: 0.8881 - val_loss: 0.3304 - val_accuracy: 0.8701\n",
      "Epoch 16/45\n",
      "2832/2832 [==============================] - 3s 966us/sample - loss: 0.2894 - accuracy: 0.8927 - val_loss: 0.3354 - val_accuracy: 0.8686\n",
      "Epoch 17/45\n",
      "2832/2832 [==============================] - 3s 1ms/sample - loss: 0.2969 - accuracy: 0.8930 - val_loss: 0.3212 - val_accuracy: 0.8842\n",
      "Epoch 18/45\n",
      "2832/2832 [==============================] - 3s 1ms/sample - loss: 0.2794 - accuracy: 0.8997 - val_loss: 0.3068 - val_accuracy: 0.8757\n",
      "Epoch 19/45\n",
      "2832/2832 [==============================] - 3s 1ms/sample - loss: 0.2718 - accuracy: 0.8997 - val_loss: 0.3120 - val_accuracy: 0.8870\n",
      "Epoch 20/45\n",
      "2832/2832 [==============================] - 3s 1ms/sample - loss: 0.2728 - accuracy: 0.9004 - val_loss: 0.3118 - val_accuracy: 0.8856\n",
      "Epoch 21/45\n",
      "2832/2832 [==============================] - 4s 1ms/sample - loss: 0.2680 - accuracy: 0.9015 - val_loss: 0.3087 - val_accuracy: 0.8842\n",
      "Epoch 22/45\n",
      "2832/2832 [==============================] - 3s 1ms/sample - loss: 0.2649 - accuracy: 0.9043 - val_loss: 0.3172 - val_accuracy: 0.8715\n",
      "Epoch 23/45\n",
      "2832/2832 [==============================] - 3s 1ms/sample - loss: 0.2688 - accuracy: 0.9001 - val_loss: 0.3295 - val_accuracy: 0.8658\n",
      "Epoch 24/45\n",
      "2832/2832 [==============================] - 3s 1ms/sample - loss: 0.3068 - accuracy: 0.8852 - val_loss: 0.4170 - val_accuracy: 0.8446\n",
      "Epoch 25/45\n",
      "2832/2832 [==============================] - 3s 1ms/sample - loss: 0.2821 - accuracy: 0.8962 - val_loss: 0.2996 - val_accuracy: 0.8842\n",
      "Epoch 26/45\n",
      "2832/2832 [==============================] - 3s 1ms/sample - loss: 0.2634 - accuracy: 0.9011 - val_loss: 0.3164 - val_accuracy: 0.8856\n",
      "Epoch 27/45\n",
      "2832/2832 [==============================] - 3s 1ms/sample - loss: 0.2566 - accuracy: 0.9085 - val_loss: 0.3170 - val_accuracy: 0.8715\n",
      "Epoch 28/45\n",
      "2832/2832 [==============================] - 3s 972us/sample - loss: 0.3334 - accuracy: 0.8796 - val_loss: 0.3098 - val_accuracy: 0.8856\n",
      "Epoch 29/45\n",
      "2832/2832 [==============================] - 4s 1ms/sample - loss: 0.2613 - accuracy: 0.9075 - val_loss: 0.3248 - val_accuracy: 0.8743\n",
      "Epoch 30/45\n",
      "2832/2832 [==============================] - 3s 1ms/sample - loss: 0.2576 - accuracy: 0.9011 - val_loss: 0.2894 - val_accuracy: 0.8969\n",
      "Epoch 31/45\n",
      "2832/2832 [==============================] - 3s 1ms/sample - loss: 0.2448 - accuracy: 0.9128 - val_loss: 0.2967 - val_accuracy: 0.8870\n",
      "Epoch 32/45\n",
      "2832/2832 [==============================] - 3s 1ms/sample - loss: 0.2558 - accuracy: 0.9032 - val_loss: 0.2803 - val_accuracy: 0.8912\n",
      "Epoch 33/45\n",
      "2832/2832 [==============================] - 3s 1ms/sample - loss: 0.2395 - accuracy: 0.9149 - val_loss: 0.2897 - val_accuracy: 0.8898\n",
      "Epoch 34/45\n",
      "2832/2832 [==============================] - 3s 1ms/sample - loss: 0.2400 - accuracy: 0.9121 - val_loss: 0.2910 - val_accuracy: 0.8898\n",
      "Epoch 35/45\n",
      "2832/2832 [==============================] - 3s 1ms/sample - loss: 0.2466 - accuracy: 0.9071 - val_loss: 0.2858 - val_accuracy: 0.8912\n",
      "Epoch 36/45\n",
      "2832/2832 [==============================] - 3s 1ms/sample - loss: 0.2358 - accuracy: 0.9128 - val_loss: 0.2892 - val_accuracy: 0.8997\n",
      "Epoch 37/45\n",
      "2832/2832 [==============================] - 3s 899us/sample - loss: 0.2320 - accuracy: 0.9153 - val_loss: 0.2825 - val_accuracy: 0.8941\n",
      "Epoch 38/45\n",
      "2832/2832 [==============================] - 4s 1ms/sample - loss: 0.2358 - accuracy: 0.9138 - val_loss: 0.2938 - val_accuracy: 0.8898\n",
      "Epoch 39/45\n",
      "2832/2832 [==============================] - 3s 1ms/sample - loss: 0.2292 - accuracy: 0.9142 - val_loss: 0.2767 - val_accuracy: 0.8969\n",
      "Epoch 40/45\n",
      "2832/2832 [==============================] - 3s 1ms/sample - loss: 0.2261 - accuracy: 0.9191 - val_loss: 0.2820 - val_accuracy: 0.8870\n",
      "Epoch 41/45\n",
      "2832/2832 [==============================] - 4s 1ms/sample - loss: 0.2198 - accuracy: 0.9191 - val_loss: 0.2861 - val_accuracy: 0.8898\n",
      "Epoch 42/45\n",
      "2832/2832 [==============================] - 3s 1ms/sample - loss: 0.2237 - accuracy: 0.9149 - val_loss: 0.2736 - val_accuracy: 0.8898\n",
      "Epoch 43/45\n",
      "2832/2832 [==============================] - 3s 1ms/sample - loss: 0.2392 - accuracy: 0.9128 - val_loss: 0.2938 - val_accuracy: 0.8842\n",
      "Epoch 44/45\n",
      "2832/2832 [==============================] - 3s 1ms/sample - loss: 0.2261 - accuracy: 0.9174 - val_loss: 0.2858 - val_accuracy: 0.8842\n",
      "Epoch 45/45\n",
      "2832/2832 [==============================] - 3s 1ms/sample - loss: 0.2328 - accuracy: 0.9121 - val_loss: 0.3025 - val_accuracy: 0.8814\n",
      "Training time: 143.98383450508118s\n"
     ]
    }
   ],
   "source": [
    "start = time.time()\n",
    "\n",
    "history = model.fit(train_data, train_labels,epochs=45,validation_data=(val_data,val_labels)\n",
    "          ,callbacks=[early_stop],batch_size = 128, verbose = 1)\n",
    "\n",
    "stop = time.time()\n",
    "print(f\"Training time: {stop - start}s\")"
   ]
  },
  {
   "cell_type": "code",
   "execution_count": 92,
   "metadata": {},
   "outputs": [],
   "source": [
    "def plot_history(history):\n",
    "#   Plots accuracy/loss for training/validation set as a function of the epochs\n",
    "\n",
    "    plt.figure(figsize=(50,25))\n",
    "    fig, axs = plt.subplots(2)\n",
    "\n",
    "    # create accuracy sublpot\n",
    "    axs[0].plot(history.history[\"accuracy\"], label=\"train accuracy\")\n",
    "    axs[0].plot(history.history[\"val_accuracy\"], label=\"test accuracy\")\n",
    "    axs[0].set_ylabel(\"Accuracy\")\n",
    "    axs[0].legend(loc=\"lower right\")\n",
    "    axs[0].set_title(\"Accuracy eval\")\n",
    "\n",
    "    # create error sublpot\n",
    "    axs[1].plot(history.history[\"loss\"], label=\"train error\")\n",
    "    axs[1].plot(history.history[\"val_loss\"], label=\"test error\")\n",
    "    axs[1].set_ylabel(\"Error\")\n",
    "    axs[1].set_xlabel(\"Epoch\")\n",
    "    axs[1].legend(loc=\"upper right\")\n",
    "    axs[1].set_title(\"Error eval\")\n",
    "\n",
    "    plt.show()\n"
   ]
  },
  {
   "cell_type": "code",
   "execution_count": 75,
   "metadata": {},
   "outputs": [
    {
     "data": {
      "text/plain": [
       "<Figure size 3600x1800 with 0 Axes>"
      ]
     },
     "metadata": {},
     "output_type": "display_data"
    },
    {
     "data": {
      "image/png": "[encoded data removed]",
      "text/plain": [
       "<Figure size 432x288 with 2 Axes>"
      ]
     },
     "metadata": {
      "needs_background": "light"
     },
     "output_type": "display_data"
    }
   ],
   "source": [
    "# plot accuracy/error for training and validation\n",
    "plot_history(history)"
   ]
  },
  {
   "cell_type": "code",
   "execution_count": null,
   "metadata": {},
   "outputs": [],
   "source": []
  }
 ],
 "metadata": {
  "kernelspec": {
   "display_name": "Python 3",
   "language": "python",
   "name": "python3"
  },
  "language_info": {
   "codemirror_mode": {
    "name": "ipython",
    "version": 3
   },
   "file_extension": ".py",
   "mimetype": "text/x-python",
   "name": "python",
   "nbconvert_exporter": "python",
   "pygments_lexer": "ipython3",
   "version": "3.7.7"
  }
 },
 "nbformat": 4,
 "nbformat_minor": 4
}
