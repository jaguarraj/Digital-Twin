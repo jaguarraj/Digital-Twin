{
 "cells": [
  {
   "cell_type": "code",
   "execution_count": 1,
   "metadata": {},
   "outputs": [],
   "source": [
    "import numpy as np\n",
    "import pandas as pd\n",
    "import matplotlib.pyplot as plt\n",
    "%matplotlib inline\n",
    "import seaborn as sns\n",
    "from sklearn.tree import DecisionTreeClassifier\n",
    "from sklearn.model_selection import train_test_split\n",
    "import time"
   ]
  },
  {
   "cell_type": "markdown",
   "metadata": {},
   "source": [
    "## Get the vibration signal features data"
   ]
  },
  {
   "cell_type": "code",
   "execution_count": 2,
   "metadata": {},
   "outputs": [],
   "source": [
    "features_data = pd.read_csv('C:/Users/intel/Desktop/Mtech_Proj/Digital twin_29 Jan 2021/Low_features_digitalTwin_fault.csv',index_col=0)"
   ]
  },
  {
   "cell_type": "code",
   "execution_count": 3,
   "metadata": {},
   "outputs": [
    {
     "data": {
      "text/html": [
       "<div>\n",
       "<style scoped>\n",
       "    .dataframe tbody tr th:only-of-type {\n",
       "        vertical-align: middle;\n",
       "    }\n",
       "\n",
       "    .dataframe tbody tr th {\n",
       "        vertical-align: top;\n",
       "    }\n",
       "\n",
       "    .dataframe thead th {\n",
       "        text-align: right;\n",
       "    }\n",
       "</style>\n",
       "<table border=\"1\" class=\"dataframe\">\n",
       "  <thead>\n",
       "    <tr style=\"text-align: right;\">\n",
       "      <th></th>\n",
       "      <th>x_Mean</th>\n",
       "      <th>x_Min</th>\n",
       "      <th>x_Kurtosis</th>\n",
       "      <th>x_Crest_Factor</th>\n",
       "      <th>x_Skewness</th>\n",
       "      <th>x_Form_Factor</th>\n",
       "      <th>fault_Class</th>\n",
       "    </tr>\n",
       "  </thead>\n",
       "  <tbody>\n",
       "    <tr>\n",
       "      <th>0</th>\n",
       "      <td>-0.015542</td>\n",
       "      <td>-0.531908</td>\n",
       "      <td>1.559893</td>\n",
       "      <td>4.469807</td>\n",
       "      <td>-0.080251</td>\n",
       "      <td>-8.142677</td>\n",
       "      <td>C1</td>\n",
       "    </tr>\n",
       "    <tr>\n",
       "      <th>1</th>\n",
       "      <td>-0.014872</td>\n",
       "      <td>-0.609838</td>\n",
       "      <td>1.760466</td>\n",
       "      <td>4.377686</td>\n",
       "      <td>-0.269365</td>\n",
       "      <td>-8.633299</td>\n",
       "      <td>C1</td>\n",
       "    </tr>\n",
       "    <tr>\n",
       "      <th>2</th>\n",
       "      <td>-0.017018</td>\n",
       "      <td>-0.646336</td>\n",
       "      <td>1.809119</td>\n",
       "      <td>4.169048</td>\n",
       "      <td>-0.063207</td>\n",
       "      <td>-7.533026</td>\n",
       "      <td>C1</td>\n",
       "    </tr>\n",
       "    <tr>\n",
       "      <th>3</th>\n",
       "      <td>-0.011631</td>\n",
       "      <td>-0.547362</td>\n",
       "      <td>1.774470</td>\n",
       "      <td>4.277821</td>\n",
       "      <td>-0.079043</td>\n",
       "      <td>-11.263617</td>\n",
       "      <td>C1</td>\n",
       "    </tr>\n",
       "    <tr>\n",
       "      <th>4</th>\n",
       "      <td>-0.018077</td>\n",
       "      <td>-0.573010</td>\n",
       "      <td>1.413154</td>\n",
       "      <td>4.211090</td>\n",
       "      <td>-0.098778</td>\n",
       "      <td>-7.016276</td>\n",
       "      <td>C1</td>\n",
       "    </tr>\n",
       "  </tbody>\n",
       "</table>\n",
       "</div>"
      ],
      "text/plain": [
       "     x_Mean     x_Min  x_Kurtosis  x_Crest_Factor  x_Skewness  x_Form_Factor  \\\n",
       "0 -0.015542 -0.531908    1.559893        4.469807   -0.080251      -8.142677   \n",
       "1 -0.014872 -0.609838    1.760466        4.377686   -0.269365      -8.633299   \n",
       "2 -0.017018 -0.646336    1.809119        4.169048   -0.063207      -7.533026   \n",
       "3 -0.011631 -0.547362    1.774470        4.277821   -0.079043     -11.263617   \n",
       "4 -0.018077 -0.573010    1.413154        4.211090   -0.098778      -7.016276   \n",
       "\n",
       "  fault_Class  \n",
       "0          C1  \n",
       "1          C1  \n",
       "2          C1  \n",
       "3          C1  \n",
       "4          C1  "
      ]
     },
     "execution_count": 3,
     "metadata": {},
     "output_type": "execute_result"
    }
   ],
   "source": [
    "features_data.head()"
   ]
  },
  {
   "cell_type": "markdown",
   "metadata": {},
   "source": [
    "# Decision Tree"
   ]
  },
  {
   "cell_type": "code",
   "execution_count": 4,
   "metadata": {},
   "outputs": [],
   "source": [
    "tree = DecisionTreeClassifier()\n",
    "X = features_data.drop('fault_Class',axis=1)\n",
    "y = features_data['fault_Class']\n",
    "X_train, X_test, y_train, y_test = train_test_split(X, y, test_size=0.3, random_state=101)"
   ]
  },
  {
   "cell_type": "code",
   "execution_count": 5,
   "metadata": {},
   "outputs": [
    {
     "name": "stdout",
     "output_type": "stream",
     "text": [
      "Training time: 0.062497854232788086s\n"
     ]
    }
   ],
   "source": [
    "start = time.time()\n",
    "tree.fit(X_train,y_train)\n",
    "stop = time.time()\n",
    "print(f\"Training time: {stop - start}s\")\n"
   ]
  },
  {
   "cell_type": "markdown",
   "metadata": {},
   "source": [
    "## Predictions and Evaluation of Decision Tree\n",
    "**Create predictions from the test set and create a classification report and a confusion matrix.**"
   ]
  },
  {
   "cell_type": "code",
   "execution_count": 6,
   "metadata": {},
   "outputs": [],
   "source": [
    "y_pred = tree.predict(X_test)"
   ]
  },
  {
   "cell_type": "code",
   "execution_count": 7,
   "metadata": {},
   "outputs": [
    {
     "name": "stdout",
     "output_type": "stream",
     "text": [
      "              precision    recall  f1-score   support\n",
      "\n",
      "          C1       0.72      0.71      0.72       536\n",
      "          C2       1.00      1.00      1.00       523\n",
      "          C3       0.71      0.72      0.72       527\n",
      "          C4       1.00      1.00      1.00       536\n",
      "          C5       1.00      1.00      1.00       518\n",
      "\n",
      "    accuracy                           0.89      2640\n",
      "   macro avg       0.89      0.89      0.89      2640\n",
      "weighted avg       0.89      0.89      0.89      2640\n",
      "\n",
      "\n",
      "\n",
      "[[383   0 153   0   0]\n",
      " [  0 523   0   0   0]\n",
      " [147   0 380   0   0]\n",
      " [  0   0   0 536   0]\n",
      " [  0   0   0   0 518]]\n"
     ]
    }
   ],
   "source": [
    "from sklearn.metrics import classification_report,confusion_matrix\n",
    "print(classification_report(y_test,y_pred))\n",
    "print('\\n')\n",
    "print(confusion_matrix(y_test,y_pred))"
   ]
  },
  {
   "cell_type": "markdown",
   "metadata": {},
   "source": [
    "# Ramdom Forest Classification"
   ]
  },
  {
   "cell_type": "code",
   "execution_count": 8,
   "metadata": {},
   "outputs": [],
   "source": [
    "from sklearn.ensemble import  RandomForestClassifier\n",
    "from sklearn.model_selection import GridSearchCV\n",
    "from sklearn import metrics\n",
    "from sklearn import model_selection"
   ]
  },
  {
   "cell_type": "code",
   "execution_count": 9,
   "metadata": {},
   "outputs": [],
   "source": [
    "rfc = RandomForestClassifier(n_estimators=200)"
   ]
  },
  {
   "cell_type": "code",
   "execution_count": 10,
   "metadata": {},
   "outputs": [],
   "source": [
    "X = features_data.drop('fault_Class',axis=1)\n",
    "y = features_data['fault_Class']\n",
    "# scorer = metrics.get_scorer('roc_auc')\n",
    "X_train, X_test, y_train, y_test = train_test_split(X, y, test_size=0.3, random_state=101)"
   ]
  },
  {
   "cell_type": "markdown",
   "metadata": {},
   "source": [
    "**Create a dictionary called param_grid and fill out some parameters for C and gamma.**"
   ]
  },
  {
   "cell_type": "code",
   "execution_count": 11,
   "metadata": {},
   "outputs": [],
   "source": [
    "param_grid = {'min_samples_leaf': np.linspace(0.01, 0.10, 20)} "
   ]
  },
  {
   "cell_type": "markdown",
   "metadata": {},
   "source": [
    "** Create a GridSearchCV object and fit it to the training data.**"
   ]
  },
  {
   "cell_type": "code",
   "execution_count": 12,
   "metadata": {},
   "outputs": [
    {
     "name": "stdout",
     "output_type": "stream",
     "text": [
      "Fitting 5 folds for each of 20 candidates, totalling 100 fits\n",
      "[CV] min_samples_leaf=0.01 ...........................................\n"
     ]
    },
    {
     "name": "stderr",
     "output_type": "stream",
     "text": [
      "[Parallel(n_jobs=1)]: Using backend SequentialBackend with 1 concurrent workers.\n"
     ]
    },
    {
     "name": "stdout",
     "output_type": "stream",
     "text": [
      "[CV] ............................ min_samples_leaf=0.01, total=   1.0s\n",
      "[CV] min_samples_leaf=0.01 ...........................................\n"
     ]
    },
    {
     "name": "stderr",
     "output_type": "stream",
     "text": [
      "[Parallel(n_jobs=1)]: Done   1 out of   1 | elapsed:    1.0s remaining:    0.0s\n"
     ]
    },
    {
     "name": "stdout",
     "output_type": "stream",
     "text": [
      "[CV] ............................ min_samples_leaf=0.01, total=   1.0s\n",
      "[CV] min_samples_leaf=0.01 ...........................................\n",
      "[CV] ............................ min_samples_leaf=0.01, total=   1.0s\n",
      "[CV] min_samples_leaf=0.01 ...........................................\n",
      "[CV] ............................ min_samples_leaf=0.01, total=   1.0s\n",
      "[CV] min_samples_leaf=0.01 ...........................................\n",
      "[CV] ............................ min_samples_leaf=0.01, total=   1.0s\n",
      "[CV] min_samples_leaf=0.01473684210526316 ............................\n",
      "[CV] ............. min_samples_leaf=0.01473684210526316, total=   0.9s\n",
      "[CV] min_samples_leaf=0.01473684210526316 ............................\n",
      "[CV] ............. min_samples_leaf=0.01473684210526316, total=   0.9s\n",
      "[CV] min_samples_leaf=0.01473684210526316 ............................\n",
      "[CV] ............. min_samples_leaf=0.01473684210526316, total=   0.9s\n",
      "[CV] min_samples_leaf=0.01473684210526316 ............................\n",
      "[CV] ............. min_samples_leaf=0.01473684210526316, total=   0.9s\n",
      "[CV] min_samples_leaf=0.01473684210526316 ............................\n",
      "[CV] ............. min_samples_leaf=0.01473684210526316, total=   0.9s\n",
      "[CV] min_samples_leaf=0.019473684210526317 ...........................\n",
      "[CV] ............ min_samples_leaf=0.019473684210526317, total=   1.1s\n",
      "[CV] min_samples_leaf=0.019473684210526317 ...........................\n",
      "[CV] ............ min_samples_leaf=0.019473684210526317, total=   1.0s\n",
      "[CV] min_samples_leaf=0.019473684210526317 ...........................\n",
      "[CV] ............ min_samples_leaf=0.019473684210526317, total=   0.9s\n",
      "[CV] min_samples_leaf=0.019473684210526317 ...........................\n",
      "[CV] ............ min_samples_leaf=0.019473684210526317, total=   0.9s\n",
      "[CV] min_samples_leaf=0.019473684210526317 ...........................\n",
      "[CV] ............ min_samples_leaf=0.019473684210526317, total=   0.9s\n",
      "[CV] min_samples_leaf=0.024210526315789474 ...........................\n",
      "[CV] ............ min_samples_leaf=0.024210526315789474, total=   0.9s\n",
      "[CV] min_samples_leaf=0.024210526315789474 ...........................\n",
      "[CV] ............ min_samples_leaf=0.024210526315789474, total=   0.9s\n",
      "[CV] min_samples_leaf=0.024210526315789474 ...........................\n",
      "[CV] ............ min_samples_leaf=0.024210526315789474, total=   0.9s\n",
      "[CV] min_samples_leaf=0.024210526315789474 ...........................\n",
      "[CV] ............ min_samples_leaf=0.024210526315789474, total=   0.9s\n",
      "[CV] min_samples_leaf=0.024210526315789474 ...........................\n",
      "[CV] ............ min_samples_leaf=0.024210526315789474, total=   0.9s\n",
      "[CV] min_samples_leaf=0.02894736842105263 ............................\n",
      "[CV] ............. min_samples_leaf=0.02894736842105263, total=   0.9s\n",
      "[CV] min_samples_leaf=0.02894736842105263 ............................\n",
      "[CV] ............. min_samples_leaf=0.02894736842105263, total=   0.9s\n",
      "[CV] min_samples_leaf=0.02894736842105263 ............................\n",
      "[CV] ............. min_samples_leaf=0.02894736842105263, total=   0.9s\n",
      "[CV] min_samples_leaf=0.02894736842105263 ............................\n",
      "[CV] ............. min_samples_leaf=0.02894736842105263, total=   0.9s\n",
      "[CV] min_samples_leaf=0.02894736842105263 ............................\n",
      "[CV] ............. min_samples_leaf=0.02894736842105263, total=   0.9s\n",
      "[CV] min_samples_leaf=0.03368421052631579 ............................\n",
      "[CV] ............. min_samples_leaf=0.03368421052631579, total=   0.9s\n",
      "[CV] min_samples_leaf=0.03368421052631579 ............................\n",
      "[CV] ............. min_samples_leaf=0.03368421052631579, total=   1.1s\n",
      "[CV] min_samples_leaf=0.03368421052631579 ............................\n",
      "[CV] ............. min_samples_leaf=0.03368421052631579, total=   0.9s\n",
      "[CV] min_samples_leaf=0.03368421052631579 ............................\n",
      "[CV] ............. min_samples_leaf=0.03368421052631579, total=   0.9s\n",
      "[CV] min_samples_leaf=0.03368421052631579 ............................\n",
      "[CV] ............. min_samples_leaf=0.03368421052631579, total=   0.9s\n",
      "[CV] min_samples_leaf=0.03842105263157895 ............................\n",
      "[CV] ............. min_samples_leaf=0.03842105263157895, total=   0.8s\n",
      "[CV] min_samples_leaf=0.03842105263157895 ............................\n",
      "[CV] ............. min_samples_leaf=0.03842105263157895, total=   0.8s\n",
      "[CV] min_samples_leaf=0.03842105263157895 ............................\n",
      "[CV] ............. min_samples_leaf=0.03842105263157895, total=   0.8s\n",
      "[CV] min_samples_leaf=0.03842105263157895 ............................\n",
      "[CV] ............. min_samples_leaf=0.03842105263157895, total=   0.8s\n",
      "[CV] min_samples_leaf=0.03842105263157895 ............................\n",
      "[CV] ............. min_samples_leaf=0.03842105263157895, total=   0.8s\n",
      "[CV] min_samples_leaf=0.04315789473684211 ............................\n",
      "[CV] ............. min_samples_leaf=0.04315789473684211, total=   0.8s\n",
      "[CV] min_samples_leaf=0.04315789473684211 ............................\n",
      "[CV] ............. min_samples_leaf=0.04315789473684211, total=   0.8s\n",
      "[CV] min_samples_leaf=0.04315789473684211 ............................\n",
      "[CV] ............. min_samples_leaf=0.04315789473684211, total=   0.8s\n",
      "[CV] min_samples_leaf=0.04315789473684211 ............................\n",
      "[CV] ............. min_samples_leaf=0.04315789473684211, total=   0.8s\n",
      "[CV] min_samples_leaf=0.04315789473684211 ............................\n",
      "[CV] ............. min_samples_leaf=0.04315789473684211, total=   0.8s\n",
      "[CV] min_samples_leaf=0.04789473684210527 ............................\n",
      "[CV] ............. min_samples_leaf=0.04789473684210527, total=   0.8s\n",
      "[CV] min_samples_leaf=0.04789473684210527 ............................\n",
      "[CV] ............. min_samples_leaf=0.04789473684210527, total=   0.8s\n",
      "[CV] min_samples_leaf=0.04789473684210527 ............................\n",
      "[CV] ............. min_samples_leaf=0.04789473684210527, total=   0.9s\n",
      "[CV] min_samples_leaf=0.04789473684210527 ............................\n",
      "[CV] ............. min_samples_leaf=0.04789473684210527, total=   1.0s\n",
      "[CV] min_samples_leaf=0.04789473684210527 ............................\n",
      "[CV] ............. min_samples_leaf=0.04789473684210527, total=   0.8s\n",
      "[CV] min_samples_leaf=0.052631578947368425 ...........................\n",
      "[CV] ............ min_samples_leaf=0.052631578947368425, total=   0.8s\n",
      "[CV] min_samples_leaf=0.052631578947368425 ...........................\n",
      "[CV] ............ min_samples_leaf=0.052631578947368425, total=   0.8s\n",
      "[CV] min_samples_leaf=0.052631578947368425 ...........................\n",
      "[CV] ............ min_samples_leaf=0.052631578947368425, total=   0.8s\n",
      "[CV] min_samples_leaf=0.052631578947368425 ...........................\n",
      "[CV] ............ min_samples_leaf=0.052631578947368425, total=   0.8s\n",
      "[CV] min_samples_leaf=0.052631578947368425 ...........................\n",
      "[CV] ............ min_samples_leaf=0.052631578947368425, total=   0.8s\n",
      "[CV] min_samples_leaf=0.05736842105263158 ............................\n",
      "[CV] ............. min_samples_leaf=0.05736842105263158, total=   0.8s\n",
      "[CV] min_samples_leaf=0.05736842105263158 ............................\n",
      "[CV] ............. min_samples_leaf=0.05736842105263158, total=   0.8s\n",
      "[CV] min_samples_leaf=0.05736842105263158 ............................\n",
      "[CV] ............. min_samples_leaf=0.05736842105263158, total=   0.8s\n",
      "[CV] min_samples_leaf=0.05736842105263158 ............................\n",
      "[CV] ............. min_samples_leaf=0.05736842105263158, total=   0.8s\n",
      "[CV] min_samples_leaf=0.05736842105263158 ............................\n",
      "[CV] ............. min_samples_leaf=0.05736842105263158, total=   0.8s\n",
      "[CV] min_samples_leaf=0.06210526315789474 ............................\n",
      "[CV] ............. min_samples_leaf=0.06210526315789474, total=   0.8s\n",
      "[CV] min_samples_leaf=0.06210526315789474 ............................\n",
      "[CV] ............. min_samples_leaf=0.06210526315789474, total=   0.8s\n",
      "[CV] min_samples_leaf=0.06210526315789474 ............................\n",
      "[CV] ............. min_samples_leaf=0.06210526315789474, total=   0.8s\n",
      "[CV] min_samples_leaf=0.06210526315789474 ............................\n",
      "[CV] ............. min_samples_leaf=0.06210526315789474, total=   0.8s\n",
      "[CV] min_samples_leaf=0.06210526315789474 ............................\n"
     ]
    },
    {
     "name": "stdout",
     "output_type": "stream",
     "text": [
      "[CV] ............. min_samples_leaf=0.06210526315789474, total=   0.8s\n",
      "[CV] min_samples_leaf=0.0668421052631579 .............................\n",
      "[CV] .............. min_samples_leaf=0.0668421052631579, total=   0.9s\n",
      "[CV] min_samples_leaf=0.0668421052631579 .............................\n",
      "[CV] .............. min_samples_leaf=0.0668421052631579, total=   0.8s\n",
      "[CV] min_samples_leaf=0.0668421052631579 .............................\n",
      "[CV] .............. min_samples_leaf=0.0668421052631579, total=   0.8s\n",
      "[CV] min_samples_leaf=0.0668421052631579 .............................\n",
      "[CV] .............. min_samples_leaf=0.0668421052631579, total=   0.8s\n",
      "[CV] min_samples_leaf=0.0668421052631579 .............................\n",
      "[CV] .............. min_samples_leaf=0.0668421052631579, total=   0.8s\n",
      "[CV] min_samples_leaf=0.07157894736842106 ............................\n",
      "[CV] ............. min_samples_leaf=0.07157894736842106, total=   0.7s\n",
      "[CV] min_samples_leaf=0.07157894736842106 ............................\n",
      "[CV] ............. min_samples_leaf=0.07157894736842106, total=   0.8s\n",
      "[CV] min_samples_leaf=0.07157894736842106 ............................\n",
      "[CV] ............. min_samples_leaf=0.07157894736842106, total=   0.8s\n",
      "[CV] min_samples_leaf=0.07157894736842106 ............................\n",
      "[CV] ............. min_samples_leaf=0.07157894736842106, total=   0.8s\n",
      "[CV] min_samples_leaf=0.07157894736842106 ............................\n",
      "[CV] ............. min_samples_leaf=0.07157894736842106, total=   0.8s\n",
      "[CV] min_samples_leaf=0.07631578947368421 ............................\n",
      "[CV] ............. min_samples_leaf=0.07631578947368421, total=   0.8s\n",
      "[CV] min_samples_leaf=0.07631578947368421 ............................\n",
      "[CV] ............. min_samples_leaf=0.07631578947368421, total=   0.8s\n",
      "[CV] min_samples_leaf=0.07631578947368421 ............................\n",
      "[CV] ............. min_samples_leaf=0.07631578947368421, total=   0.8s\n",
      "[CV] min_samples_leaf=0.07631578947368421 ............................\n",
      "[CV] ............. min_samples_leaf=0.07631578947368421, total=   0.8s\n",
      "[CV] min_samples_leaf=0.07631578947368421 ............................\n",
      "[CV] ............. min_samples_leaf=0.07631578947368421, total=   0.8s\n",
      "[CV] min_samples_leaf=0.08105263157894736 ............................\n",
      "[CV] ............. min_samples_leaf=0.08105263157894736, total=   0.8s\n",
      "[CV] min_samples_leaf=0.08105263157894736 ............................\n",
      "[CV] ............. min_samples_leaf=0.08105263157894736, total=   0.7s\n",
      "[CV] min_samples_leaf=0.08105263157894736 ............................\n",
      "[CV] ............. min_samples_leaf=0.08105263157894736, total=   0.7s\n",
      "[CV] min_samples_leaf=0.08105263157894736 ............................\n",
      "[CV] ............. min_samples_leaf=0.08105263157894736, total=   0.8s\n",
      "[CV] min_samples_leaf=0.08105263157894736 ............................\n",
      "[CV] ............. min_samples_leaf=0.08105263157894736, total=   0.9s\n",
      "[CV] min_samples_leaf=0.08578947368421053 ............................\n",
      "[CV] ............. min_samples_leaf=0.08578947368421053, total=   0.8s\n",
      "[CV] min_samples_leaf=0.08578947368421053 ............................\n",
      "[CV] ............. min_samples_leaf=0.08578947368421053, total=   0.8s\n",
      "[CV] min_samples_leaf=0.08578947368421053 ............................\n",
      "[CV] ............. min_samples_leaf=0.08578947368421053, total=   0.8s\n",
      "[CV] min_samples_leaf=0.08578947368421053 ............................\n",
      "[CV] ............. min_samples_leaf=0.08578947368421053, total=   0.8s\n",
      "[CV] min_samples_leaf=0.08578947368421053 ............................\n",
      "[CV] ............. min_samples_leaf=0.08578947368421053, total=   0.7s\n",
      "[CV] min_samples_leaf=0.09052631578947369 ............................\n",
      "[CV] ............. min_samples_leaf=0.09052631578947369, total=   0.7s\n",
      "[CV] min_samples_leaf=0.09052631578947369 ............................\n",
      "[CV] ............. min_samples_leaf=0.09052631578947369, total=   0.7s\n",
      "[CV] min_samples_leaf=0.09052631578947369 ............................\n",
      "[CV] ............. min_samples_leaf=0.09052631578947369, total=   0.8s\n",
      "[CV] min_samples_leaf=0.09052631578947369 ............................\n",
      "[CV] ............. min_samples_leaf=0.09052631578947369, total=   0.8s\n",
      "[CV] min_samples_leaf=0.09052631578947369 ............................\n",
      "[CV] ............. min_samples_leaf=0.09052631578947369, total=   0.8s\n",
      "[CV] min_samples_leaf=0.09526315789473684 ............................\n",
      "[CV] ............. min_samples_leaf=0.09526315789473684, total=   0.8s\n",
      "[CV] min_samples_leaf=0.09526315789473684 ............................\n",
      "[CV] ............. min_samples_leaf=0.09526315789473684, total=   0.7s\n",
      "[CV] min_samples_leaf=0.09526315789473684 ............................\n",
      "[CV] ............. min_samples_leaf=0.09526315789473684, total=   0.8s\n",
      "[CV] min_samples_leaf=0.09526315789473684 ............................\n",
      "[CV] ............. min_samples_leaf=0.09526315789473684, total=   0.7s\n",
      "[CV] min_samples_leaf=0.09526315789473684 ............................\n",
      "[CV] ............. min_samples_leaf=0.09526315789473684, total=   0.8s\n",
      "[CV] min_samples_leaf=0.1 ............................................\n",
      "[CV] ............................. min_samples_leaf=0.1, total=   0.8s\n",
      "[CV] min_samples_leaf=0.1 ............................................\n",
      "[CV] ............................. min_samples_leaf=0.1, total=   0.7s\n",
      "[CV] min_samples_leaf=0.1 ............................................\n",
      "[CV] ............................. min_samples_leaf=0.1, total=   0.9s\n",
      "[CV] min_samples_leaf=0.1 ............................................\n",
      "[CV] ............................. min_samples_leaf=0.1, total=   0.8s\n",
      "[CV] min_samples_leaf=0.1 ............................................\n",
      "[CV] ............................. min_samples_leaf=0.1, total=   0.7s\n"
     ]
    },
    {
     "name": "stderr",
     "output_type": "stream",
     "text": [
      "[Parallel(n_jobs=1)]: Done 100 out of 100 | elapsed:  1.6min finished\n"
     ]
    },
    {
     "name": "stdout",
     "output_type": "stream",
     "text": [
      "Training time: 94.4385941028595s\n"
     ]
    }
   ],
   "source": [
    "grid = GridSearchCV(rfc,param_grid, cv=5,return_train_score=True,refit=True,verbose=2)\n",
    "\n",
    "start = time.time()\n",
    "grid.fit(X_train,y_train)\n",
    "stop = time.time()\n",
    "print(f\"Training time: {stop - start}s\")"
   ]
  },
  {
   "cell_type": "code",
   "execution_count": 13,
   "metadata": {},
   "outputs": [
    {
     "data": {
      "text/plain": [
       "<matplotlib.axes._subplots.AxesSubplot at 0xad3bcb26c8>"
      ]
     },
     "execution_count": 13,
     "metadata": {},
     "output_type": "execute_result"
    },
    {
     "data": {
      "image/png": "[encoded data removed]",
      "text/plain": [
       "<Figure size 864x576 with 1 Axes>"
      ]
     },
     "metadata": {
      "needs_background": "light"
     },
     "output_type": "display_data"
    }
   ],
   "source": [
    "grid = pd.DataFrame(grid.cv_results_)\n",
    "grid.plot(y=['mean_test_score', 'mean_train_score'], x='param_min_samples_leaf', figsize=(12,8))"
   ]
  },
  {
   "cell_type": "code",
   "execution_count": 14,
   "metadata": {},
   "outputs": [
    {
     "name": "stdout",
     "output_type": "stream",
     "text": [
      "Training time: 0.4843788146972656s\n",
      "train score 90.243506\n",
      "test score 90.946970\n"
     ]
    }
   ],
   "source": [
    "rfc = RandomForestClassifier(n_estimators=100, min_samples_leaf=0.04, random_state=1)\n",
    "\n",
    "start = time.time()\n",
    "rfc.fit(X_train, y_train)\n",
    "stop = time.time()\n",
    "print(f\"Training time: {stop - start}s\")\n",
    "\n",
    "print('train score {:2f}'.format(100*rfc.score(X_train, y_train)))\n",
    "print('test score {:2f}'.format(100*rfc.score(X_test,y_test)))"
   ]
  },
  {
   "cell_type": "code",
   "execution_count": 15,
   "metadata": {},
   "outputs": [],
   "source": [
    "sizes = np.linspace(0.10, 1.0, 20)\n",
    "l = model_selection.learning_curve(rfc, X_train, y_train, train_sizes=sizes, cv=5)"
   ]
  },
  {
   "cell_type": "code",
   "execution_count": 16,
   "metadata": {},
   "outputs": [
    {
     "data": {
      "text/plain": [
       "<matplotlib.axes._subplots.AxesSubplot at 0xad3beae0c8>"
      ]
     },
     "execution_count": 16,
     "metadata": {},
     "output_type": "execute_result"
    },
    {
     "data": {
      "image/png": "[encoded data removed]",
      "text/plain": [
       "<Figure size 864x576 with 1 Axes>"
      ]
     },
     "metadata": {
      "needs_background": "light"
     },
     "output_type": "display_data"
    }
   ],
   "source": [
    "learning = pd.DataFrame({\n",
    "    'train_size': l[0],\n",
    "    'train_score': l[1].mean(axis=1),\n",
    "    'val_score': l[2].mean(axis=1),\n",
    "})\n",
    "learning.plot(x='train_size', figsize=(12,8))"
   ]
  },
  {
   "cell_type": "code",
   "execution_count": 17,
   "metadata": {},
   "outputs": [],
   "source": [
    "rfc_pred = rfc.predict(X_test)"
   ]
  },
  {
   "cell_type": "code",
   "execution_count": 18,
   "metadata": {},
   "outputs": [
    {
     "name": "stdout",
     "output_type": "stream",
     "text": [
      "              precision    recall  f1-score   support\n",
      "\n",
      "          C1       0.78      0.78      0.78       536\n",
      "          C2       1.00      1.00      1.00       523\n",
      "          C3       0.77      0.77      0.77       527\n",
      "          C4       1.00      1.00      1.00       536\n",
      "          C5       1.00      1.00      1.00       518\n",
      "\n",
      "    accuracy                           0.91      2640\n",
      "   macro avg       0.91      0.91      0.91      2640\n",
      "weighted avg       0.91      0.91      0.91      2640\n",
      "\n",
      "\n",
      "\n",
      "[[416   0 120   0   0]\n",
      " [  0 523   0   0   0]\n",
      " [119   0 408   0   0]\n",
      " [  0   0   0 536   0]\n",
      " [  0   0   0   0 518]]\n"
     ]
    }
   ],
   "source": [
    "print(classification_report(y_test,rfc_pred))\n",
    "print('\\n')\n",
    "print(confusion_matrix(y_test,rfc_pred))"
   ]
  },
  {
   "cell_type": "code",
   "execution_count": null,
   "metadata": {},
   "outputs": [],
   "source": []
  }
 ],
 "metadata": {
  "kernelspec": {
   "display_name": "Python 3",
   "language": "python",
   "name": "python3"
  },
  "language_info": {
   "codemirror_mode": {
    "name": "ipython",
    "version": 3
   },
   "file_extension": ".py",
   "mimetype": "text/x-python",
   "name": "python",
   "nbconvert_exporter": "python",
   "pygments_lexer": "ipython3",
   "version": "3.7.7"
  }
 },
 "nbformat": 4,
 "nbformat_minor": 4
}
