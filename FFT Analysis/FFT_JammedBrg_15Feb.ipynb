{
 "cells": [
  {
   "cell_type": "code",
   "execution_count": 1,
   "metadata": {},
   "outputs": [],
   "source": [
    "import lvm_read\n",
    "import numpy as np\n",
    "import pandas as pd\n",
    "from scipy.stats import *\n",
    "from scipy import pi\n",
    "from scipy.fftpack import fft\n",
    "import matplotlib.pyplot as plt\n",
    "import time\n",
    "from collections import Counter\n",
    "from numpy.fft import rfft, rfftfreq"
   ]
  },
  {
   "cell_type": "code",
   "execution_count": 2,
   "metadata": {},
   "outputs": [],
   "source": [
    "Jam_file = 'C:/Users/intel/Desktop/Mtech_Proj/Digital twin_29 Jan 2021/dataset/Vib_Pow_Jammed.lvm'\n",
    "Healthy_file = 'C:/Users/intel/Desktop/Mtech_Proj/Digital twin_29 Jan 2021/dataset/Healthy.lvm'\n",
    "\n",
    "lvm_Jam = lvm_read.read(Jam_file, read_from_pickle=False)\n",
    "lvm_Healthy = lvm_read.read(Healthy_file, read_from_pickle=False)"
   ]
  },
  {
   "cell_type": "code",
   "execution_count": 3,
   "metadata": {},
   "outputs": [],
   "source": [
    "Jam_data_vib = lvm_Jam[0]['data'][:,1]## Vibration data\n",
    "Healthy_data_vib = lvm_Healthy[0]['data'][:,3]"
   ]
  },
  {
   "cell_type": "code",
   "execution_count": 4,
   "metadata": {},
   "outputs": [],
   "source": [
    "Jam_data_vib = pd.DataFrame(Jam_data_vib)\n",
    "Healthy_data_vib = pd.DataFrame(Healthy_data_vib)"
   ]
  },
  {
   "cell_type": "code",
   "execution_count": 5,
   "metadata": {},
   "outputs": [
    {
     "data": {
      "text/plain": [
       "Text(0, 0.5, 'Vibration (g)')"
      ]
     },
     "execution_count": 5,
     "metadata": {},
     "output_type": "execute_result"
    },
    {
     "data": {
      "image/png": "[encoded data removed]",
      "text/plain": [
       "<Figure size 432x288 with 1 Axes>"
      ]
     },
     "metadata": {
      "needs_background": "light"
     },
     "output_type": "display_data"
    }
   ],
   "source": [
    "#FFT\n",
    "N = Jam_data_vib.shape[0] #data size=3600 data pts\n",
    "f_s = 2000 #Sampling frequency\n",
    "dt = 1.0 / f_s #inverse of sampling rate\n",
    "\n",
    "y = Jam_data_vib.values.flatten() #to convert DataFrame to 1D array\n",
    "    #acc value must be in numpy array format for half way mirror calculation\n",
    "fft=rfft(y)*dt\n",
    "freq=rfftfreq(N,d=dt)\n",
    "FFT=abs(fft)\n",
    "plt.plot(freq,FFT)\n",
    "plt.title('FFT Jammed Bearing')\n",
    "plt.xlabel('Frequency (Hz)')\n",
    "plt.ylabel('Vibration (g)')"
   ]
  },
  {
   "cell_type": "code",
   "execution_count": 6,
   "metadata": {},
   "outputs": [
    {
     "data": {
      "text/plain": [
       "Text(0, 0.5, 'Vibration (g)')"
      ]
     },
     "execution_count": 6,
     "metadata": {},
     "output_type": "execute_result"
    },
    {
     "data": {
      "image/png": "[encoded data removed]",
      "text/plain": [
       "<Figure size 432x288 with 1 Axes>"
      ]
     },
     "metadata": {
      "needs_background": "light"
     },
     "output_type": "display_data"
    }
   ],
   "source": [
    "#FFT\n",
    "N = Healthy_data_vib.shape[0] #data size=3600 data pts\n",
    "f_s = 2000 #Sampling frequency\n",
    "dt = 1.0 / f_s #inverse of sampling rate\n",
    "\n",
    "y = Healthy_data_vib.values.flatten() #to convert DataFrame to 1D array\n",
    "    #acc value must be in numpy array format for half way mirror calculation\n",
    "fft=rfft(y)*dt\n",
    "freq=rfftfreq(N,d=dt)\n",
    "FFT=abs(fft)\n",
    "plt.plot(freq,FFT)\n",
    "plt.title('FFT Healthy')\n",
    "plt.xlabel('Frequency (Hz)')\n",
    "plt.ylabel('Vibration (g)')"
   ]
  }
 ],
 "metadata": {
  "kernelspec": {
   "display_name": "Python 3",
   "language": "python",
   "name": "python3"
  },
  "language_info": {
   "codemirror_mode": {
    "name": "ipython",
    "version": 3
   },
   "file_extension": ".py",
   "mimetype": "text/x-python",
   "name": "python",
   "nbconvert_exporter": "python",
   "pygments_lexer": "ipython3",
   "version": "3.7.7"
  }
 },
 "nbformat": 4,
 "nbformat_minor": 4
}
